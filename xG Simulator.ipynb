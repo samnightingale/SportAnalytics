{
 "cells": [
  {
   "cell_type": "code",
   "execution_count": 5,
   "metadata": {},
   "outputs": [
    {
     "name": "stdout",
     "output_type": "stream",
     "text": [
      "Over 1000000 games, home wins 31.301%, away wins 25.6699% and there is a draw in 43.0291% of games.\n"
     ]
    }
   ],
   "source": [
    "import random\n",
    "\n",
    "def calculateWinner(home, away):\n",
    "    #Our match starts at 0-0\n",
    "    HomeGoals = 0\n",
    "    AwayGoals = 0\n",
    "    \n",
    "    def testShots(shots):\n",
    "        \n",
    "        #Start goal count at 0\n",
    "        Goals = 0\n",
    "        \n",
    "        #For each shot, if it goes in, add a goal\n",
    "        for shot in shots:\n",
    "            if random.random() <= shot:\n",
    "                Goals += 1\n",
    "                \n",
    "        #Finally, return the number of goals\n",
    "        return Goals\n",
    "    \n",
    "    #Run the above formula for home and away lists\n",
    "    HomeGoals = testShots(home)\n",
    "    AwayGoals = testShots(away)\n",
    "    \n",
    "    if HomeGoals > AwayGoals:\n",
    "        return(\"home\")\n",
    "    elif AwayGoals > HomeGoals:\n",
    "        return(\"away\")\n",
    "    else:\n",
    "        return(\"draw\")\n",
    "\n",
    "#Run xG calculator 10000 times to test winner \n",
    "def calculateChance(team1, team2):\n",
    "    home = 0;\n",
    "    away = 0;\n",
    "    draw = 0;\n",
    "    \n",
    "    for i in range(0,1000000):\n",
    "        matchWinner = calculateWinner(team1,team2)\n",
    "        if matchWinner == \"home\":\n",
    "            home +=1\n",
    "        elif matchWinner == \"away\":\n",
    "            away +=1\n",
    "        else:\n",
    "            draw +=1\n",
    "    \n",
    "    home = home/10000\n",
    "    away = away/10000\n",
    "    draw = draw/10000\n",
    "    \n",
    "    print(\"Over 1000000 games, home wins {}%, away wins {}% and there is a draw in {}% of games.\".format(home, away, draw))\n",
    "\n",
    "HomexG=[0.6]\n",
    "AwayxG=[0.15,0.15,0.15,0.15]\n",
    "calculateChance(HomexG, AwayxG)\n"
   ]
  },
  {
   "cell_type": "code",
   "execution_count": null,
   "metadata": {},
   "outputs": [],
   "source": []
  }
 ],
 "metadata": {
  "kernelspec": {
   "display_name": "Python 3",
   "language": "python",
   "name": "python3"
  },
  "language_info": {
   "codemirror_mode": {
    "name": "ipython",
    "version": 3
   },
   "file_extension": ".py",
   "mimetype": "text/x-python",
   "name": "python",
   "nbconvert_exporter": "python",
   "pygments_lexer": "ipython3",
   "version": "3.7.6"
  }
 },
 "nbformat": 4,
 "nbformat_minor": 4
}
